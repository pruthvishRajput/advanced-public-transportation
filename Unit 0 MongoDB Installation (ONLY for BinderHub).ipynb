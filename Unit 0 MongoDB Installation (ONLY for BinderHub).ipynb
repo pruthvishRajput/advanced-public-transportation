{
 "cells": [
  {
   "cell_type": "markdown",
   "metadata": {},
   "source": [
    "# Initial definitions"
   ]
  },
  {
   "cell_type": "code",
   "execution_count": null,
   "metadata": {},
   "outputs": [],
   "source": [
    "%env MONGODB_VERSION      4.0.11\n",
    "%env MONGODB_PATH mongodb-4.0.11"
   ]
  },
  {
   "cell_type": "markdown",
   "metadata": {},
   "source": [
    "# Preparing the environment\n",
    "## Downloading MongoDB"
   ]
  },
  {
   "cell_type": "code",
   "execution_count": null,
   "metadata": {},
   "outputs": [],
   "source": [
    "!wget http://downloads.mongodb.org/linux/mongodb-linux-x86_64-ubuntu1804-${MONGODB_VERSION}.tgz  -q --show-progress"
   ]
  },
  {
   "cell_type": "markdown",
   "metadata": {},
   "source": [
    "## Extracting compressed files and removing .tar"
   ]
  },
  {
   "cell_type": "code",
   "execution_count": null,
   "metadata": {},
   "outputs": [],
   "source": [
    "!tar -xvf mongodb-linux-x86_64-ubuntu1804-4.0.11.tgz >/dev/null \n",
    "!rm       mongodb-linux-x86_64-ubuntu1804-4.0.11.tgz\n",
    "!mv mongodb-linux-x86_64-ubuntu1804-4.0.11 ${MONGODB_PATH}"
   ]
  },
  {
   "cell_type": "markdown",
   "metadata": {},
   "source": [
    "## Starting MongoDB Server\n",
    "\n",
    "**Kindly note**: MongoDB should be running throughout the execution of the project. To start the MongoDB server, run the code in the cell below. Keep it in the **running** state and move towards the next unit of the project to start with the preprocessing of data. \n",
    "\n",
    "At the end of the interaction with the project, one can stop the MongoDB server by clicking the **stop** button."
   ]
  },
  {
   "cell_type": "code",
   "execution_count": null,
   "metadata": {},
   "outputs": [],
   "source": [
    "!mkdir ${MONGODB_PATH}/data/db -p\n",
    "!${MONGODB_PATH}/bin/mongod --dbpath ${MONGODB_PATH}/data/db"
   ]
  }
 ],
 "metadata": {
  "kernelspec": {
   "display_name": "Python 3",
   "language": "python",
   "name": "python3"
  },
  "language_info": {
   "codemirror_mode": {
    "name": "ipython",
    "version": 3
   },
   "file_extension": ".py",
   "mimetype": "text/x-python",
   "name": "python",
   "nbconvert_exporter": "python",
   "pygments_lexer": "ipython3",
   "version": "3.6.8"
  }
 },
 "nbformat": 4,
 "nbformat_minor": 2
}
